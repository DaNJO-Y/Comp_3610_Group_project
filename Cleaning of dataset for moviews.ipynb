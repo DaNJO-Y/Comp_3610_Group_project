{
 "cells": [
  {
   "cell_type": "code",
   "execution_count": 327,
   "id": "6329a23d-237a-42e2-94a2-71847c33b0e4",
   "metadata": {},
   "outputs": [],
   "source": [
    "import pandas as pd\n",
    "import ast\n",
    "from sklearn.preprocessing import OneHotEncoder\n",
    "from sklearn.decomposition import PCA\n",
    "from sklearn.decomposition import IncrementalPCA\n",
    "import json\n",
    "import numpy as np\n",
    "\n",
    "# !pip install --upgrade scikit-learn"
   ]
  },
  {
   "cell_type": "code",
   "execution_count": 329,
   "id": "cab71954-7e06-4530-a289-116f4ea6da21",
   "metadata": {},
   "outputs": [],
   "source": [
    "movie_1 = pd.read_csv(\"Movies_no_revenue_zero.csv\")"
   ]
  },
  {
   "cell_type": "code",
   "execution_count": 331,
   "id": "6df6f336-fec2-4d58-a113-46926f3264d6",
   "metadata": {},
   "outputs": [
    {
     "name": "stdout",
     "output_type": "stream",
     "text": [
      "<class 'pandas.core.frame.DataFrame'>\n",
      "RangeIndex: 20759 entries, 0 to 20758\n",
      "Data columns (total 16 columns):\n",
      " #   Column                Non-Null Count  Dtype  \n",
      "---  ------                --------------  -----  \n",
      " 0   movieId               20759 non-null  float64\n",
      " 1   imdb_id               20759 non-null  object \n",
      " 2   original_title        20759 non-null  object \n",
      " 3   production_companies  20759 non-null  object \n",
      " 4   production_countries  20759 non-null  object \n",
      " 5   release_date          20752 non-null  object \n",
      " 6   runtime               20695 non-null  float64\n",
      " 7   title                 20759 non-null  object \n",
      " 8   budget                20759 non-null  float64\n",
      " 9   revenue               20759 non-null  float64\n",
      " 10  genres                20759 non-null  object \n",
      " 11  popularity            20759 non-null  float64\n",
      " 12  vote_average          20759 non-null  float64\n",
      " 13  vote_count            20759 non-null  float64\n",
      " 14  director              20592 non-null  object \n",
      " 15  lead_cast             20759 non-null  object \n",
      "dtypes: float64(7), object(9)\n",
      "memory usage: 2.5+ MB\n"
     ]
    }
   ],
   "source": [
    "movie_1.info()"
   ]
  },
  {
   "cell_type": "code",
   "execution_count": 333,
   "id": "552d50d5-71d3-4a09-a077-01170cc61140",
   "metadata": {},
   "outputs": [
    {
     "data": {
      "text/plain": [
       "\"   movieId    imdb_id               original_title                                                                                                                 production_companies                                        production_countries release_date  runtime                        title      budget      revenue                              genres  popularity  vote_average  vote_count         director                              lead_cast\\n0    862.0  tt0114709                    Toy Story                                                                                       [{'name': 'Pixar Animation Studios', 'id': 3}]  [{'iso_3166_1': 'US', 'name': 'United States of America'}]   1995-10-30     81.0                    Toy Story  30000000.0  373554033.0   ['Animation', 'Comedy', 'Family']   21.946943           7.7      5415.0    John Lasseter             ['Tom Hanks', 'Tim Allen']\\n1   8844.0  tt0113497                      Jumanji  [{'name': 'TriStar Pictures', 'id': 559}, {'name': 'Teitler Film', 'id': 2550}, {'name': 'Interscope Communications', 'id': 10201}]  [{'iso_3166_1': 'US', 'name': 'United States of America'}]   1995-12-15    104.0                      Jumanji  65000000.0  262797249.0  ['Adventure', 'Fantasy', 'Family']   17.015539           6.9      2413.0     Joe Johnston    ['Robin Williams', 'Jonathan Hyde']\\n2  15602.0  tt0113228             Grumpier Old Men                                                      [{'name': 'Warner Bros.', 'id': 6194}, {'name': 'Lancaster Gate', 'id': 19464}]  [{'iso_3166_1': 'US', 'name': 'United States of America'}]   1995-12-22    101.0             Grumpier Old Men         0.0   71518503.0               ['Romance', 'Comedy']   11.712900           6.5        92.0    Howard Deutch      ['Walter Matthau', 'Jack Lemmon']\\n3  31357.0  tt0114885            Waiting to Exhale                                                                      [{'name': 'Twentieth Century Fox Film Corporation', 'id': 306}]  [{'iso_3166_1': 'US', 'name': 'United States of America'}]   1995-12-22    127.0            Waiting to Exhale  16000000.0   81452156.0      ['Comedy', 'Drama', 'Romance']    3.859495           6.1        34.0  Forest Whitaker  ['Whitney Houston', 'Angela Bassett']\\n4  11862.0  tt0113041  Father of the Bride Part II                                         [{'name': 'Sandollar Productions', 'id': 5842}, {'name': 'Touchstone Pictures', 'id': 9195}]  [{'iso_3166_1': 'US', 'name': 'United States of America'}]   1995-02-10    106.0  Father of the Bride Part II         0.0   76578911.0                          ['Comedy']    8.387519           5.7       173.0    Charles Shyer       ['Steve Martin', 'Diane Keaton']\""
      ]
     },
     "execution_count": 333,
     "metadata": {},
     "output_type": "execute_result"
    }
   ],
   "source": [
    "movie_1[\"release_date\"] = pd.to_datetime(movie_1[\"release_date\"])\n",
    "movie_1.head(5).to_string()"
   ]
  },
  {
   "cell_type": "code",
   "execution_count": 335,
   "id": "6a97383a-002d-40d8-b4c3-7dc3764ca121",
   "metadata": {},
   "outputs": [
    {
     "name": "stdout",
     "output_type": "stream",
     "text": [
      "<class 'pandas.core.frame.DataFrame'>\n",
      "RangeIndex: 20759 entries, 0 to 20758\n",
      "Data columns (total 16 columns):\n",
      " #   Column                Non-Null Count  Dtype         \n",
      "---  ------                --------------  -----         \n",
      " 0   movieId               20759 non-null  float64       \n",
      " 1   imdb_id               20759 non-null  object        \n",
      " 2   original_title        20759 non-null  object        \n",
      " 3   production_companies  20759 non-null  object        \n",
      " 4   production_countries  20759 non-null  object        \n",
      " 5   release_date          20752 non-null  datetime64[ns]\n",
      " 6   runtime               20695 non-null  float64       \n",
      " 7   title                 20759 non-null  object        \n",
      " 8   budget                20759 non-null  float64       \n",
      " 9   revenue               20759 non-null  float64       \n",
      " 10  genres                20759 non-null  object        \n",
      " 11  popularity            20759 non-null  float64       \n",
      " 12  vote_average          20759 non-null  float64       \n",
      " 13  vote_count            20759 non-null  float64       \n",
      " 14  director              20592 non-null  object        \n",
      " 15  lead_cast             20759 non-null  object        \n",
      "dtypes: datetime64[ns](1), float64(7), object(8)\n",
      "memory usage: 2.5+ MB\n"
     ]
    }
   ],
   "source": [
    "movie_1.info()\n"
   ]
  },
  {
   "cell_type": "code",
   "execution_count": 337,
   "id": "45ebd015-69f4-478e-9f36-53f3787e669a",
   "metadata": {},
   "outputs": [
    {
     "name": "stdout",
     "output_type": "stream",
     "text": [
      "                                    production_companies\n",
      "0                              [Pixar Animation Studios]\n",
      "1      [TriStar Pictures, Teitler Film, Interscope Co...\n",
      "2                         [Warner Bros., Lancaster Gate]\n",
      "3               [Twentieth Century Fox Film Corporation]\n",
      "4           [Sandollar Productions, Touchstone Pictures]\n",
      "...                                                  ...\n",
      "20754                                                 []\n",
      "20755  [Art Pictures Studio, Art Pictures Group, Task...\n",
      "20756                                                 []\n",
      "20757                    [Mad Films, Third Eye Pictures]\n",
      "20758                                                 []\n",
      "\n",
      "[20759 rows x 1 columns]\n"
     ]
    }
   ],
   "source": [
    "movie_1[\"production_companies\"] = movie_1[\"production_companies\"].apply(lambda x: [entry['name'] for entry in ast.literal_eval(x)])\n",
    "print(movie_1[[\"production_companies\"]])"
   ]
  },
  {
   "cell_type": "code",
   "execution_count": 338,
   "id": "6bed15c7-9dbf-4754-9b9e-647cdc66e394",
   "metadata": {},
   "outputs": [
    {
     "name": "stdout",
     "output_type": "stream",
     "text": [
      "<class 'pandas.core.frame.DataFrame'>\n",
      "Index: 3755 entries, 54 to 20758\n",
      "Data columns (total 16 columns):\n",
      " #   Column                Non-Null Count  Dtype         \n",
      "---  ------                --------------  -----         \n",
      " 0   movieId               3755 non-null   float64       \n",
      " 1   imdb_id               3755 non-null   object        \n",
      " 2   original_title        3755 non-null   object        \n",
      " 3   production_companies  3755 non-null   object        \n",
      " 4   production_countries  3755 non-null   object        \n",
      " 5   release_date          3748 non-null   datetime64[ns]\n",
      " 6   runtime               3716 non-null   float64       \n",
      " 7   title                 3755 non-null   object        \n",
      " 8   budget                3755 non-null   float64       \n",
      " 9   revenue               3755 non-null   float64       \n",
      " 10  genres                3755 non-null   object        \n",
      " 11  popularity            3755 non-null   float64       \n",
      " 12  vote_average          3755 non-null   float64       \n",
      " 13  vote_count            3755 non-null   float64       \n",
      " 14  director              3624 non-null   object        \n",
      " 15  lead_cast             3755 non-null   object        \n",
      "dtypes: datetime64[ns](1), float64(7), object(8)\n",
      "memory usage: 498.7+ KB\n",
      "None\n"
     ]
    }
   ],
   "source": [
    "A = movie_1[movie_1[\"production_companies\"].apply(len) == 0]\n",
    "print(A.info())"
   ]
  },
  {
   "cell_type": "code",
   "execution_count": 339,
   "id": "ba340768-3d84-460e-b8d4-b732b4932ef6",
   "metadata": {},
   "outputs": [
    {
     "name": "stdout",
     "output_type": "stream",
     "text": [
      "<class 'pandas.core.frame.DataFrame'>\n",
      "Index: 0 entries\n",
      "Data columns (total 16 columns):\n",
      " #   Column                Non-Null Count  Dtype         \n",
      "---  ------                --------------  -----         \n",
      " 0   movieId               0 non-null      float64       \n",
      " 1   imdb_id               0 non-null      object        \n",
      " 2   original_title        0 non-null      object        \n",
      " 3   production_companies  0 non-null      object        \n",
      " 4   production_countries  0 non-null      object        \n",
      " 5   release_date          0 non-null      datetime64[ns]\n",
      " 6   runtime               0 non-null      float64       \n",
      " 7   title                 0 non-null      object        \n",
      " 8   budget                0 non-null      float64       \n",
      " 9   revenue               0 non-null      float64       \n",
      " 10  genres                0 non-null      object        \n",
      " 11  popularity            0 non-null      float64       \n",
      " 12  vote_average          0 non-null      float64       \n",
      " 13  vote_count            0 non-null      float64       \n",
      " 14  director              0 non-null      object        \n",
      " 15  lead_cast             0 non-null      object        \n",
      "dtypes: datetime64[ns](1), float64(7), object(8)\n",
      "memory usage: 0.0+ bytes\n",
      "None\n"
     ]
    }
   ],
   "source": [
    "movie_1.loc[movie_1[\"production_companies\"].apply(len) == 0, \"production_companies\"] = \"Not Announced\"\n",
    "A = movie_1[movie_1[\"production_companies\"].apply(len) == 0]\n",
    "print(A.info())\n",
    "movie_1.to_csv(\"test-m-0.csv\", index=False)"
   ]
  },
  {
   "cell_type": "code",
   "execution_count": 343,
   "id": "52cd7f00-e418-4725-969f-27491e4501cc",
   "metadata": {
    "scrolled": true
   },
   "outputs": [],
   "source": [
    "movie_1_production_company_exploded = movie_1.explode('production_companies')\n",
    "\n",
    "# test_df = pd.get_dummies(movie_1_exploded, columns=['production_companies'], prefix='prod_comp', dtype='int')\n",
    "# # encoder = OneHotEncoder(sparse_output=False, drop='first')\n",
    "# # encoded_data = encoder.fit_transform(movie_1_exploded)\n",
    "# # encoded_df = test_df.filter(like='prod_comp')\n",
    "\n",
    "# encoder = OneHotEncoder(handle_unknown=\"ignore\", sparse_output=True)\n",
    "# encoded_data = encoder.fit_transform(movie_1_exploded[['production_companies']])\n",
    "# encoded_dense = encoded_data.toarray()\n",
    "\n",
    "# # Now create DataFrame with correct number of columns\n",
    "# encoded_df = pd.DataFrame(encoded_dense, columns=encoder.get_feature_names_out(['production_companies']))\n",
    "\n",
    "# print(encoded_data)\n",
    "# test_df.to_csv(\"test-m-3.csv\")\n",
    "# one_hot_encode = pd.get_dummies(movie_1_exploded['production_companies'])\n",
    "\n",
    "\n",
    "# encoder = OneHotEncoder(handle_unknown=\"ignore\")\n",
    "# encoded_features = encoder.fit_transform(movie_1[[\"production_companies\"]])\n",
    "\n",
    "# encoded_movie_production_companies = pd.DataFrame(encoded_features, columns=encoder.get_feature_names_out(\"production_companies\"))\n",
    "# print(encoded_movie_production_companies.head(5))\n",
    "\n",
    "\n",
    "# result = one_hot_encode.max().to_list()\n",
    "# print(\"One-Hot Encoded (as list):\", result)\n",
    "# print(\"\\nOne-Hot Encoded (DataFrame - intermediate):\")\n",
    "\n",
    "# print(one_hot_encode.head(5))\n",
    "\n",
    "# one_hot_encode.to_csv(\"movie-prod.csv\", index=False)"
   ]
  },
  {
   "cell_type": "code",
   "execution_count": 345,
   "id": "d8d6fc16-654c-432f-a9c3-6620cb029b6d",
   "metadata": {},
   "outputs": [],
   "source": [
    "production_company_freq_encoding = movie_1_production_company_exploded['production_companies'].value_counts(normalize=True)\n",
    "movie_1_production_company_exploded['prod_comp_encoded'] = movie_1_production_company_exploded['production_companies'].map(production_company_freq_encoding)"
   ]
  },
  {
   "cell_type": "code",
   "execution_count": 347,
   "id": "e6ec006c-3bd9-4f98-becf-c3a15d2649f8",
   "metadata": {},
   "outputs": [],
   "source": [
    "movie_1_production_company_encoded = movie_1_production_company_exploded.groupby(\"movieId\").agg({'prod_comp_encoded': 'mean'}).reset_index()"
   ]
  },
  {
   "cell_type": "code",
   "execution_count": 349,
   "id": "86ca2d85-ddcf-4228-a91e-f031bf7f276c",
   "metadata": {},
   "outputs": [],
   "source": [
    "movie_1_with_production_company = movie_1.drop(columns=['production_companies']).merge(movie_1_production_company_encoded, on=\"movieId\")\n",
    "movie_1_with_production_company.to_csv(\"Prod-Comp.csv\", index=False)"
   ]
  },
  {
   "cell_type": "code",
   "execution_count": 351,
   "id": "e9234549-050b-49bd-865c-36bee054918c",
   "metadata": {},
   "outputs": [],
   "source": [
    "# ipca = IncrementalPCA(n_components=500) \n",
    "# for batch in range(0, encoded_df.shape[0], 1000):  # Process in batches of 1000\n",
    "#     ipca.partial_fit(encoded_df[batch:batch+1000].toarray())\n",
    "\n",
    "# pca_transformed = ipca.transform(encoded_df.toarray())\n",
    "\n",
    "# ipca = IncrementalPCA(n_components=500)\n",
    "# for batch in range(0, encoded_df.shape[0], 1000):\n",
    "#     ipca.partial_fit(encoded_df[batch:batch+1000].to_numpy()) # Use .to_numpy()\n",
    "\n",
    "# pca_transformed = ipca.transform(encoded_df.to_numpy())\n",
    "# print(pca_transformed)\n",
    "\n",
    "# pca = PCA(n_components=0.80)\n",
    "# pca_result = pca.fit_transform(encoded_df)\n",
    "# print(pca_result)\n",
    "# # Convert PCA features to DataFrame\n",
    "# pca_columns = [f\"PCA_Comp_{i+1}\" for i in range(pca_transformed.shape[1])]\n",
    "# pca_df = pd.DataFrame(pca_transformed, columns=pca_columns)"
   ]
  },
  {
   "cell_type": "code",
   "execution_count": 353,
   "id": "97e771e0-d644-43c0-ac5b-d84efc671f8b",
   "metadata": {},
   "outputs": [
    {
     "name": "stdout",
     "output_type": "stream",
     "text": [
      "             production_countries\n",
      "0      [United States of America]\n",
      "1      [United States of America]\n",
      "2      [United States of America]\n",
      "3      [United States of America]\n",
      "4      [United States of America]\n",
      "...                           ...\n",
      "20754                    [Russia]\n",
      "20755                    [Russia]\n",
      "20756                          []\n",
      "20757                     [India]\n",
      "20758            [United Kingdom]\n",
      "\n",
      "[20759 rows x 1 columns]\n"
     ]
    }
   ],
   "source": [
    "movie_1_with_production_company[\"production_countries\"] = movie_1_with_production_company[\"production_countries\"].apply(lambda x: [entry['name'] for entry in ast.literal_eval(x)])\n",
    "print(movie_1_with_production_company[[\"production_countries\"]])"
   ]
  },
  {
   "cell_type": "code",
   "execution_count": 354,
   "id": "9d77cef9-16a0-46b5-89d9-b5f6ced74cd1",
   "metadata": {},
   "outputs": [
    {
     "name": "stdout",
     "output_type": "stream",
     "text": [
      "<class 'pandas.core.frame.DataFrame'>\n",
      "Index: 1593 entries, 79 to 20756\n",
      "Data columns (total 16 columns):\n",
      " #   Column                Non-Null Count  Dtype         \n",
      "---  ------                --------------  -----         \n",
      " 0   movieId               1593 non-null   float64       \n",
      " 1   imdb_id               1593 non-null   object        \n",
      " 2   original_title        1593 non-null   object        \n",
      " 3   production_countries  1593 non-null   object        \n",
      " 4   release_date          1586 non-null   datetime64[ns]\n",
      " 5   runtime               1571 non-null   float64       \n",
      " 6   title                 1593 non-null   object        \n",
      " 7   budget                1593 non-null   float64       \n",
      " 8   revenue               1593 non-null   float64       \n",
      " 9   genres                1593 non-null   object        \n",
      " 10  popularity            1593 non-null   float64       \n",
      " 11  vote_average          1593 non-null   float64       \n",
      " 12  vote_count            1593 non-null   float64       \n",
      " 13  director              1490 non-null   object        \n",
      " 14  lead_cast             1593 non-null   object        \n",
      " 15  prod_comp_encoded     1593 non-null   float64       \n",
      "dtypes: datetime64[ns](1), float64(8), object(7)\n",
      "memory usage: 211.6+ KB\n",
      "None\n"
     ]
    }
   ],
   "source": [
    "A = movie_1_with_production_company[movie_1_with_production_company[\"production_countries\"].apply(len) == 0]\n",
    "print(A.info())"
   ]
  },
  {
   "cell_type": "code",
   "execution_count": 357,
   "id": "19fc94f9-76f9-4134-bd93-74262c7f67c9",
   "metadata": {},
   "outputs": [
    {
     "name": "stdout",
     "output_type": "stream",
     "text": [
      "<class 'pandas.core.frame.DataFrame'>\n",
      "Index: 0 entries\n",
      "Data columns (total 16 columns):\n",
      " #   Column                Non-Null Count  Dtype         \n",
      "---  ------                --------------  -----         \n",
      " 0   movieId               0 non-null      float64       \n",
      " 1   imdb_id               0 non-null      object        \n",
      " 2   original_title        0 non-null      object        \n",
      " 3   production_countries  0 non-null      object        \n",
      " 4   release_date          0 non-null      datetime64[ns]\n",
      " 5   runtime               0 non-null      float64       \n",
      " 6   title                 0 non-null      object        \n",
      " 7   budget                0 non-null      float64       \n",
      " 8   revenue               0 non-null      float64       \n",
      " 9   genres                0 non-null      object        \n",
      " 10  popularity            0 non-null      float64       \n",
      " 11  vote_average          0 non-null      float64       \n",
      " 12  vote_count            0 non-null      float64       \n",
      " 13  director              0 non-null      object        \n",
      " 14  lead_cast             0 non-null      object        \n",
      " 15  prod_comp_encoded     0 non-null      float64       \n",
      "dtypes: datetime64[ns](1), float64(8), object(7)\n",
      "memory usage: 0.0+ bytes\n",
      "None\n"
     ]
    }
   ],
   "source": [
    "movie_1_with_production_company.loc[movie_1_with_production_company[\"production_countries\"].apply(len) == 0, \"production_countries\"] = \"Not Announced\"\n",
    "A = movie_1_with_production_company[movie_1_with_production_company[\"production_countries\"].apply(len) == 0]\n",
    "print(A.info())\n",
    "movie_1_with_production_company.to_csv(\"test-m-6.csv\", index=False)"
   ]
  },
  {
   "cell_type": "code",
   "execution_count": 359,
   "id": "09563b32-f3b6-4731-a14b-9248266b8510",
   "metadata": {},
   "outputs": [],
   "source": [
    "movie_1_production_country_exploded = movie_1_with_production_company.explode('production_countries')\n",
    "\n",
    "movie_1_prod_country = pd.get_dummies(movie_1_production_country_exploded, columns=['production_countries'], prefix='prod_country', dtype='int')\n",
    "# # encoder = OneHotEncoder(sparse_output=False, drop='first')\n",
    "# # encoded_data = encoder.fit_transform(movie_1_exploded)\n",
    "encoded_df = movie_1_prod_country.filter(like='prod_country')\n",
    "\n",
    "# encoder = OneHotEncoder(handle_unknown=\"ignore\", sparse_output=True)\n",
    "# encoded_data = encoder.fit_transform(movie_1_exploded[['production_companies']])\n",
    "# encoded_dense = encoded_data.toarray()\n",
    "\n",
    "# # Now create DataFrame with correct number of columns\n",
    "# encoded_df = pd.DataFrame(encoded_dense, columns=encoder.get_feature_names_out(['production_companies']))\n",
    "\n",
    "# print(encoded_data)\n",
    "movie_1_prod_country.to_csv(\"test-m-7.csv\")\n",
    "# one_hot_encode = pd.get_dummies(movie_1_exploded['production_companies'])\n",
    "\n",
    "\n",
    "# encoder = OneHotEncoder(handle_unknown=\"ignore\")\n",
    "# encoded_features = encoder.fit_transform(movie_1[[\"production_companies\"]])\n",
    "\n",
    "# encoded_movie_production_companies = pd.DataFrame(encoded_features, columns=encoder.get_feature_names_out(\"production_companies\"))\n",
    "# print(encoded_movie_production_companies.head(5))\n"
   ]
  },
  {
   "cell_type": "code",
   "execution_count": 360,
   "id": "04c2919a-9c2d-4f5a-bd7c-0b0641bd5952",
   "metadata": {},
   "outputs": [
    {
     "name": "stdout",
     "output_type": "stream",
     "text": [
      "[[ 6.53932872e-01  1.26719254e-02  2.12671203e-02 ...  1.26141592e-03\n",
      "   4.27367393e-04  1.06759664e-04]\n",
      " [ 6.53932872e-01  1.26719254e-02  2.12671203e-02 ...  1.26141592e-03\n",
      "   4.27367393e-04  1.06759664e-04]\n",
      " [ 6.53932872e-01  1.26719254e-02  2.12671203e-02 ...  1.26141592e-03\n",
      "   4.27367393e-04  1.06759664e-04]\n",
      " ...\n",
      " [-4.00523612e-01 -1.27731978e-01 -5.19283412e-01 ...  1.00165098e-02\n",
      "   3.31867349e-03  8.22659669e-04]\n",
      " [-3.34375647e-01 -5.41392312e-02 -1.26092554e-01 ...  6.74549857e-02\n",
      "   1.95218177e-02  4.63943611e-03]\n",
      " [-4.51598025e-01 -5.73117518e-01  6.63433297e-01 ...  6.73691888e-03\n",
      "   2.25069052e-03  5.59507507e-04]]\n"
     ]
    }
   ],
   "source": [
    "pca = PCA(n_components=0.80)\n",
    "pca_result = pca.fit_transform(encoded_df)\n",
    "print(pca_result)"
   ]
  },
  {
   "cell_type": "code",
   "execution_count": 361,
   "id": "34870d31-f6b5-4935-9683-a61434105a41",
   "metadata": {
    "scrolled": true
   },
   "outputs": [
    {
     "name": "stdout",
     "output_type": "stream",
     "text": [
      "<class 'pandas.core.frame.DataFrame'>\n",
      "RangeIndex: 20759 entries, 0 to 20758\n",
      "Data columns (total 15 columns):\n",
      " #   Column             Non-Null Count  Dtype         \n",
      "---  ------             --------------  -----         \n",
      " 0   movieId            20759 non-null  float64       \n",
      " 1   imdb_id            20759 non-null  object        \n",
      " 2   original_title     20759 non-null  object        \n",
      " 3   release_date       20752 non-null  datetime64[ns]\n",
      " 4   runtime            20695 non-null  float64       \n",
      " 5   title              20759 non-null  object        \n",
      " 6   budget             20759 non-null  float64       \n",
      " 7   revenue            20759 non-null  float64       \n",
      " 8   genres             20759 non-null  object        \n",
      " 9   popularity         20759 non-null  float64       \n",
      " 10  vote_average       20759 non-null  float64       \n",
      " 11  vote_count         20759 non-null  float64       \n",
      " 12  director           20592 non-null  object        \n",
      " 13  lead_cast          20759 non-null  object        \n",
      " 14  prod_comp_encoded  20759 non-null  float64       \n",
      "dtypes: datetime64[ns](1), float64(8), object(6)\n",
      "memory usage: 2.4+ MB\n"
     ]
    }
   ],
   "source": [
    "pca_df = pd.DataFrame(pca_result)\n",
    "movie_1_with_production_company = movie_1_with_production_company.reset_index(drop=True)\n",
    "pca_df = pca_df.reset_index(drop=True)\n",
    "movie_1_with_production_company = movie_1_with_production_company.drop(columns=['production_countries'])\n",
    "movie_1_with_production_company.info()\n",
    "movie_1_with_production_countries = pd.concat([movie_1_with_production_company, pca_df], axis=1)\n",
    "movie_1_with_production_countries.to_csv('test-m-8.csv', index=False)"
   ]
  },
  {
   "cell_type": "code",
   "execution_count": null,
   "id": "57e07e9f-07c5-4e72-a8b6-6662614bfbdc",
   "metadata": {},
   "outputs": [],
   "source": []
  },
  {
   "cell_type": "code",
   "execution_count": 363,
   "id": "128fd0c5-0fbc-48dc-814c-bc5c08884d24",
   "metadata": {},
   "outputs": [],
   "source": [
    "# A = movie_1_with_production_countries[movie_1_with_production_countries[\"genres\"].apply(len) == 0]\n",
    "# print(A.info())"
   ]
  },
  {
   "cell_type": "code",
   "execution_count": 366,
   "id": "6e5d4d4d-dc1f-43a8-ab40-4ffdea1ec785",
   "metadata": {},
   "outputs": [],
   "source": [
    "movie_1_with_production_countries[\"genres\"] = (movie_1_with_production_countries[\"genres\"].dropna().map(ast.literal_eval))\n",
    "\n",
    "# Use explode() safely\n",
    "movie_1_genre_exploded = movie_1_with_production_countries.explode(\"genres\", ignore_index=True)\n",
    "\n",
    "# movie_1_with_production_countries[\"genres\"] = movie_1_with_production_countries[\"genres\"].apply(ast.literal_eval)\n",
    "\n",
    "# movie_1_genre_exploded = movie_1_with_production_countries.explode('genres')\n",
    "# movie_1_genre = pd.get_dummies(movie_1_genre_exploded, columns=['genres'], prefix='genre_', dtype='int')\n",
    "\n",
    "# encoded_df = movie_1_genre.filter(like='prod_country')\n",
    "\n",
    "movie_1_genre_exploded.to_csv(\"test-m-9.csv\")"
   ]
  },
  {
   "cell_type": "code",
   "execution_count": 367,
   "id": "c06c2686-ca35-4afb-9356-ce5a867fbd33",
   "metadata": {},
   "outputs": [],
   "source": [
    "genre_freq_encoding = movie_1_genre_exploded['genres'].value_counts(normalize=True)\n",
    "movie_1_genre_exploded['genre_encoded'] = movie_1_genre_exploded['genres'].map(genre_freq_encoding)"
   ]
  },
  {
   "cell_type": "code",
   "execution_count": 368,
   "id": "7d5f3245-d805-4474-8225-8371f803185a",
   "metadata": {},
   "outputs": [],
   "source": [
    "movie_1_genre_encoded = movie_1_genre_exploded.groupby(\"movieId\").agg({'genre_encoded': 'mean'}).reset_index()"
   ]
  },
  {
   "cell_type": "code",
   "execution_count": 369,
   "id": "ff51507d-8440-45ad-9688-e648d07d18cf",
   "metadata": {},
   "outputs": [],
   "source": [
    "movie_1_with_genre = movie_1_with_production_countries.drop(columns=['genres']).merge(movie_1_genre_encoded, on=\"movieId\")\n",
    "movie_1_with_genre.to_csv(\"Genre.csv\", index=False)"
   ]
  },
  {
   "cell_type": "code",
   "execution_count": null,
   "id": "8b32b6af-255e-4a1b-9321-1941a5fabfde",
   "metadata": {},
   "outputs": [],
   "source": []
  },
  {
   "cell_type": "code",
   "execution_count": 373,
   "id": "c7692a06-ac27-49bd-a928-79b7aa182776",
   "metadata": {},
   "outputs": [],
   "source": [
    "# movie_1_with_production_countries[\"genres\"] = (movie_1_with_production_countries[\"genres\"].dropna().map(ast.literal_eval))\n",
    "\n",
    "# # Use explode() safely\n",
    "# movie_1_genre_exploded = movie_1_with_production_countries.explode(\"genres\", ignore_index=True)\n",
    "\n",
    "movie_1_with_genre[\"lead_cast\"] = (movie_1_with_genre[\"lead_cast\"].dropna().map(ast.literal_eval))\n",
    "\n",
    "movie_1_actors_exploded = movie_1_with_genre.explode('lead_cast', ignore_index=True)\n",
    "# movie_1_actors = pd.get_dummies(movie_1_actors_exploded, columns=['lead_cast'], prefix='actor_', dtype='int')\n",
    "\n",
    "# encoded_df = movie_1_genre.filter(like='prod_country')\n",
    "\n",
    "# movie_1_actors_exploded.to_csv(\"test-m-10.csv\")"
   ]
  },
  {
   "cell_type": "code",
   "execution_count": 374,
   "id": "a032e1a7-e009-486f-8e7a-ec844e7727a4",
   "metadata": {},
   "outputs": [],
   "source": [
    "actor_freq_encoding = movie_1_actors_exploded['lead_cast'].value_counts(normalize=True)\n",
    "movie_1_actors_exploded['actor_encoded'] = movie_1_actors_exploded['lead_cast'].map(actor_freq_encoding)"
   ]
  },
  {
   "cell_type": "code",
   "execution_count": 375,
   "id": "1538e659-c8bf-416e-86f3-7fff6a41b868",
   "metadata": {},
   "outputs": [],
   "source": [
    "movie_1_actor_encoded = movie_1_actors_exploded.groupby(\"movieId\").agg({'actor_encoded': 'mean'}).reset_index()"
   ]
  },
  {
   "cell_type": "code",
   "execution_count": 376,
   "id": "c7667b21-3711-421d-99bc-4ea8dae72dad",
   "metadata": {},
   "outputs": [],
   "source": [
    "movie_1_with_actor = movie_1_with_genre.drop(columns=['lead_cast']).merge(movie_1_actor_encoded, on=\"movieId\")\n",
    "movie_1_with_actor.to_csv(\"Actors.csv\", index=False)"
   ]
  },
  {
   "cell_type": "code",
   "execution_count": null,
   "id": "918a3ae5-d807-4622-aa39-d4e08ee96fa8",
   "metadata": {},
   "outputs": [],
   "source": []
  },
  {
   "cell_type": "code",
   "execution_count": 378,
   "id": "e403b144-17d9-49c0-be30-f6e356f2907a",
   "metadata": {},
   "outputs": [
    {
     "name": "stdout",
     "output_type": "stream",
     "text": [
      "<class 'pandas.core.frame.DataFrame'>\n",
      "RangeIndex: 20759 entries, 0 to 20758\n",
      "Data columns (total 30 columns):\n",
      " #   Column             Non-Null Count  Dtype         \n",
      "---  ------             --------------  -----         \n",
      " 0   movieId            20759 non-null  float64       \n",
      " 1   imdb_id            20759 non-null  object        \n",
      " 2   original_title     20759 non-null  object        \n",
      " 3   release_date       20752 non-null  datetime64[ns]\n",
      " 4   runtime            20695 non-null  float64       \n",
      " 5   title              20759 non-null  object        \n",
      " 6   budget             20759 non-null  float64       \n",
      " 7   revenue            20759 non-null  float64       \n",
      " 8   popularity         20759 non-null  float64       \n",
      " 9   vote_average       20759 non-null  float64       \n",
      " 10  vote_count         20759 non-null  float64       \n",
      " 11  director           20592 non-null  object        \n",
      " 12  prod_comp_encoded  20759 non-null  float64       \n",
      " 13  0                  20759 non-null  float64       \n",
      " 14  1                  20759 non-null  float64       \n",
      " 15  2                  20759 non-null  float64       \n",
      " 16  3                  20759 non-null  float64       \n",
      " 17  4                  20759 non-null  float64       \n",
      " 18  5                  20759 non-null  float64       \n",
      " 19  6                  20759 non-null  float64       \n",
      " 20  7                  20759 non-null  float64       \n",
      " 21  8                  20759 non-null  float64       \n",
      " 22  9                  20759 non-null  float64       \n",
      " 23  10                 20759 non-null  float64       \n",
      " 24  11                 20759 non-null  float64       \n",
      " 25  12                 20759 non-null  float64       \n",
      " 26  13                 20759 non-null  float64       \n",
      " 27  14                 20759 non-null  float64       \n",
      " 28  genre_encoded      20309 non-null  float64       \n",
      " 29  actor_encoded      20232 non-null  float64       \n",
      "dtypes: datetime64[ns](1), float64(25), object(4)\n",
      "memory usage: 4.8+ MB\n"
     ]
    }
   ],
   "source": [
    "movie_1_with_actor.info()"
   ]
  },
  {
   "cell_type": "code",
   "execution_count": 390,
   "id": "8a2d0765-ddef-4271-9391-7b7c60be2a0d",
   "metadata": {},
   "outputs": [
    {
     "name": "stdout",
     "output_type": "stream",
     "text": [
      "<class 'pandas.core.frame.DataFrame'>\n",
      "Index: 20232 entries, 0 to 20757\n",
      "Data columns (total 30 columns):\n",
      " #   Column             Non-Null Count  Dtype         \n",
      "---  ------             --------------  -----         \n",
      " 0   movieId            20232 non-null  float64       \n",
      " 1   imdb_id            20232 non-null  object        \n",
      " 2   original_title     20232 non-null  object        \n",
      " 3   release_date       20230 non-null  datetime64[ns]\n",
      " 4   runtime            20175 non-null  float64       \n",
      " 5   title              20232 non-null  object        \n",
      " 6   budget             20232 non-null  float64       \n",
      " 7   revenue            20232 non-null  float64       \n",
      " 8   popularity         20232 non-null  float64       \n",
      " 9   vote_average       20232 non-null  float64       \n",
      " 10  vote_count         20232 non-null  float64       \n",
      " 11  director           20142 non-null  object        \n",
      " 12  prod_comp_encoded  20232 non-null  float64       \n",
      " 13  0                  20232 non-null  float64       \n",
      " 14  1                  20232 non-null  float64       \n",
      " 15  2                  20232 non-null  float64       \n",
      " 16  3                  20232 non-null  float64       \n",
      " 17  4                  20232 non-null  float64       \n",
      " 18  5                  20232 non-null  float64       \n",
      " 19  6                  20232 non-null  float64       \n",
      " 20  7                  20232 non-null  float64       \n",
      " 21  8                  20232 non-null  float64       \n",
      " 22  9                  20232 non-null  float64       \n",
      " 23  10                 20232 non-null  float64       \n",
      " 24  11                 20232 non-null  float64       \n",
      " 25  12                 20232 non-null  float64       \n",
      " 26  13                 20232 non-null  float64       \n",
      " 27  14                 20232 non-null  float64       \n",
      " 28  genre_encoded      20232 non-null  float64       \n",
      " 29  actor_encoded      20232 non-null  float64       \n",
      "dtypes: datetime64[ns](1), float64(25), object(4)\n",
      "memory usage: 4.8+ MB\n"
     ]
    }
   ],
   "source": [
    "movie_1_with_actor['genre_encoded'] = movie_1_with_actor['genre_encoded'].fillna(movie_1_with_actor['genre_encoded'].mean())\n",
    "\n",
    "# movie_1_with_actor['genre_encoded'].fillna(movie_1_with_actor['genre_encoded'].mean(), inplace = True)\n",
    "\n",
    "movie_1_with_actor.dropna(subset=[\"actor_encoded\"], inplace=True)\n",
    "movie_1_with_actor[\"runtime\"] = movie_1_with_actor[\"runtime\"].replace(\"\", np.nan)\n",
    "movie_1_with_actor.info()"
   ]
  },
  {
   "cell_type": "code",
   "execution_count": null,
   "id": "0cce426b-8fc1-4f74-b48b-b04b9610e87f",
   "metadata": {},
   "outputs": [],
   "source": []
  },
  {
   "cell_type": "code",
   "execution_count": 394,
   "id": "ae508dd5-a62a-46e1-be6a-acf259fe1c9a",
   "metadata": {},
   "outputs": [
    {
     "name": "stdout",
     "output_type": "stream",
     "text": [
      "<class 'pandas.core.frame.DataFrame'>\n",
      "Index: 20230 entries, 0 to 20757\n",
      "Data columns (total 30 columns):\n",
      " #   Column             Non-Null Count  Dtype         \n",
      "---  ------             --------------  -----         \n",
      " 0   movieId            20230 non-null  float64       \n",
      " 1   imdb_id            20230 non-null  object        \n",
      " 2   original_title     20230 non-null  object        \n",
      " 3   release_date       20230 non-null  datetime64[ns]\n",
      " 4   runtime            20173 non-null  float64       \n",
      " 5   title              20230 non-null  object        \n",
      " 6   budget             20230 non-null  float64       \n",
      " 7   revenue            20230 non-null  float64       \n",
      " 8   popularity         20230 non-null  float64       \n",
      " 9   vote_average       20230 non-null  float64       \n",
      " 10  vote_count         20230 non-null  float64       \n",
      " 11  director           20141 non-null  object        \n",
      " 12  prod_comp_encoded  20230 non-null  float64       \n",
      " 13  0                  20230 non-null  float64       \n",
      " 14  1                  20230 non-null  float64       \n",
      " 15  2                  20230 non-null  float64       \n",
      " 16  3                  20230 non-null  float64       \n",
      " 17  4                  20230 non-null  float64       \n",
      " 18  5                  20230 non-null  float64       \n",
      " 19  6                  20230 non-null  float64       \n",
      " 20  7                  20230 non-null  float64       \n",
      " 21  8                  20230 non-null  float64       \n",
      " 22  9                  20230 non-null  float64       \n",
      " 23  10                 20230 non-null  float64       \n",
      " 24  11                 20230 non-null  float64       \n",
      " 25  12                 20230 non-null  float64       \n",
      " 26  13                 20230 non-null  float64       \n",
      " 27  14                 20230 non-null  float64       \n",
      " 28  genre_encoded      20230 non-null  float64       \n",
      " 29  actor_encoded      20230 non-null  float64       \n",
      "dtypes: datetime64[ns](1), float64(25), object(4)\n",
      "memory usage: 4.8+ MB\n"
     ]
    }
   ],
   "source": [
    "movie_1_with_actor.dropna(subset=[\"release_date\"], inplace=True)\n",
    "\n",
    "# movie_1_with_actor.dropna(subset=[\"\"], inplace=True)\n",
    "movie_1_with_actor.info()"
   ]
  },
  {
   "cell_type": "code",
   "execution_count": 398,
   "id": "087e5968-c590-4e5b-9225-8863d4728f9a",
   "metadata": {},
   "outputs": [
    {
     "name": "stdout",
     "output_type": "stream",
     "text": [
      "<class 'pandas.core.frame.DataFrame'>\n",
      "Index: 20230 entries, 0 to 20757\n",
      "Data columns (total 30 columns):\n",
      " #   Column             Non-Null Count  Dtype         \n",
      "---  ------             --------------  -----         \n",
      " 0   movieId            20230 non-null  float64       \n",
      " 1   imdb_id            20230 non-null  object        \n",
      " 2   original_title     20230 non-null  object        \n",
      " 3   release_date       20230 non-null  datetime64[ns]\n",
      " 4   runtime            20173 non-null  float64       \n",
      " 5   title              20230 non-null  object        \n",
      " 6   budget             20230 non-null  float64       \n",
      " 7   revenue            20230 non-null  float64       \n",
      " 8   popularity         20230 non-null  float64       \n",
      " 9   vote_average       20230 non-null  float64       \n",
      " 10  vote_count         20230 non-null  float64       \n",
      " 11  director           20141 non-null  object        \n",
      " 12  prod_comp_encoded  20230 non-null  float64       \n",
      " 13  0                  20230 non-null  float64       \n",
      " 14  1                  20230 non-null  float64       \n",
      " 15  2                  20230 non-null  float64       \n",
      " 16  3                  20230 non-null  float64       \n",
      " 17  4                  20230 non-null  float64       \n",
      " 18  5                  20230 non-null  float64       \n",
      " 19  6                  20230 non-null  float64       \n",
      " 20  7                  20230 non-null  float64       \n",
      " 21  8                  20230 non-null  float64       \n",
      " 22  9                  20230 non-null  float64       \n",
      " 23  10                 20230 non-null  float64       \n",
      " 24  11                 20230 non-null  float64       \n",
      " 25  12                 20230 non-null  float64       \n",
      " 26  13                 20230 non-null  float64       \n",
      " 27  14                 20230 non-null  float64       \n",
      " 28  genre_encoded      20230 non-null  float64       \n",
      " 29  actor_encoded      20230 non-null  float64       \n",
      "dtypes: datetime64[ns](1), float64(25), object(4)\n",
      "memory usage: 4.8+ MB\n"
     ]
    }
   ],
   "source": [
    "movie_1_with_actor[\"runtime\"] = movie_1_with_actor[\"runtime\"].replace(\"\", \"-\")\n",
    "\n",
    "movie_1_with_actor[\"director\"] = movie_1_with_actor[\"director\"].replace(\"\", \"-\")\n",
    "\n",
    "movie_1_with_actor.info()"
   ]
  },
  {
   "cell_type": "code",
   "execution_count": 400,
   "id": "70807a80-0958-46a0-8863-649d635d7143",
   "metadata": {},
   "outputs": [],
   "source": [
    "final_df = movie_1_with_actor.to_csv(\"final_movie_dataset.csv\", index=False)"
   ]
  },
  {
   "cell_type": "code",
   "execution_count": null,
   "id": "fbea6095-b5d0-4d34-a3a3-84b04ff3d70e",
   "metadata": {},
   "outputs": [],
   "source": []
  }
 ],
 "metadata": {
  "kernelspec": {
   "display_name": "Python [conda env:base] *",
   "language": "python",
   "name": "conda-base-py"
  },
  "language_info": {
   "codemirror_mode": {
    "name": "ipython",
    "version": 3
   },
   "file_extension": ".py",
   "mimetype": "text/x-python",
   "name": "python",
   "nbconvert_exporter": "python",
   "pygments_lexer": "ipython3",
   "version": "3.12.7"
  }
 },
 "nbformat": 4,
 "nbformat_minor": 5
}
