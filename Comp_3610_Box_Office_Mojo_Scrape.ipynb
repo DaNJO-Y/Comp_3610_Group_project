{
 "cells": [
  {
   "cell_type": "code",
   "execution_count": 1,
   "id": "66d91185-9853-4bd1-9114-8e0a9551c15f",
   "metadata": {},
   "outputs": [],
   "source": [
    "import requests\n",
    "import csv\n",
    "import pandas as pd\n",
    "import numpy as np\n",
    "from bs4 import BeautifulSoup"
   ]
  },
  {
   "cell_type": "code",
   "execution_count": 2,
   "id": "6be14d44-3256-4488-a0a1-02b1b8f37cd0",
   "metadata": {},
   "outputs": [],
   "source": [
    "def movie_scrapper(url, m_results):\n",
    "    results = requests.get(url)\n",
    "\n",
    "    if results.status_code != 200:\n",
    "        return f'status failed with {results.status_code}'\n",
    "    else:\n",
    "        # use BeautifulSoup to parse the contents of the request\n",
    "        soup = BeautifulSoup(results.content, \"html.parser\")\n",
    "\n",
    "        movie_results = soup.find(id=\"table\")\n",
    "        # print(movie_results)\n",
    "        if movie_results:\n",
    "            table = movie_results.find('table', class_=\"a-bordered a-horizontal-stripes a-size-base a-span12 mojo-body-table mojo-table-annotated\")\n",
    "            if table:\n",
    "                rows = table.find_all(\"tr\")[1:]\n",
    "                for row in rows:\n",
    "                    cells = row.find_all(\"td\")\n",
    "                    if len(cells) >= 7: #added check to make sure there are enough cells to prevent index errors.\n",
    "                        row_data = {\n",
    "                            \"Movie_Rank\": cells[0].text.strip(),\n",
    "                            \"Movie_Name\": cells[1].text.strip(),\n",
    "                            \"Worldwide_Gross\": cells[2].text.strip(),\n",
    "                            \"Domestic_Gross\": cells[3].text.strip(),\n",
    "                            \"Domestic_Percent\": cells[4].text.strip(),\n",
    "                            \"Foreign_Gross\": cells[5].text.strip(),\n",
    "                            \"Foreign_Percent\": cells[6].text.strip(),\n",
    "                        }\n",
    "                        # print(row_data)\n",
    "                        m_results.append(row_data)\n",
    "                    else:\n",
    "                        print(\"Row has insufficient data.\")\n",
    "            else:\n",
    "                print(\"Inner table not found.\")\n",
    "        else:\n",
    "            print(\"Table element not found.\")\n",
    "                "
   ]
  },
  {
   "cell_type": "code",
   "execution_count": 3,
   "id": "fb62e1d8-175e-4b98-b7a1-769df41e8cf1",
   "metadata": {},
   "outputs": [
    {
     "name": "stdout",
     "output_type": "stream",
     "text": [
      "  Movie_Rank              Movie_Name Worldwide_Gross Domestic_Gross  \\\n",
      "0          1  Mission: Impossible II    $546,388,108   $215,409,889   \n",
      "1          2               Gladiator    $460,583,960   $187,705,427   \n",
      "2          3               Cast Away    $429,632,142   $233,632,142   \n",
      "3          4         What Women Want    $374,111,707   $182,811,707   \n",
      "4          5                Dinosaur    $349,822,765   $137,748,063   \n",
      "\n",
      "  Domestic_Percent Foreign_Gross Foreign_Percent  \n",
      "0            39.4%  $330,978,219           60.6%  \n",
      "1            40.8%  $272,878,533           59.2%  \n",
      "2            54.4%  $196,000,000           45.6%  \n",
      "3            48.9%  $191,300,000           51.1%  \n",
      "4            39.4%  $212,074,702           60.6%  \n"
     ]
    }
   ],
   "source": [
    "target_url = 'https://www.boxofficemojo.com/year/world/'\n",
    "years = [\"2000/\",\"2001/\",\"2002/\",\"2003/\",\"2004/\",\"2005/\",\"2006/\",\"2007/\",\"2008/\",\"2009/\",\"2010/\",\"2011/\",\"2012/\",\"2013/\",\"2014/\",\"2015/\",\"2016/\",\"2017/\",\"2018/\",\"2019/\",\"2020/\",\"2021/\",\"2022/\",\"2023/\",\"2024/\",\"2025/\"]\n",
    "m_res = []\n",
    "for year in years:\n",
    "    url = target_url + year\n",
    "    # print(url)\n",
    "    movie_scrapper(url,m_res)\n",
    "df= pd.DataFrame(m_res)\n",
    "print(df.head())\n",
    "# print(m_res)"
   ]
  },
  {
   "cell_type": "code",
   "execution_count": 4,
   "id": "2d323691-a99a-4d92-9fa0-45f57a27ba5c",
   "metadata": {},
   "outputs": [],
   "source": [
    "df.to_csv(\"movie_dataset_grossing.csv\", index=False)"
   ]
  },
  {
   "cell_type": "code",
   "execution_count": 5,
   "id": "736c8b19-c39e-459f-ba1f-3c8ca4097d33",
   "metadata": {},
   "outputs": [],
   "source": [
    "df = pd.read_csv(\"movie_dataset_grossing.csv\")"
   ]
  },
  {
   "cell_type": "code",
   "execution_count": 6,
   "id": "e60a58ee-961e-4c88-8d38-bc90f9714f27",
   "metadata": {},
   "outputs": [],
   "source": [
    "df = df.replace('-',np.nan)"
   ]
  },
  {
   "cell_type": "code",
   "execution_count": 7,
   "id": "59690e12-ffb5-476f-a021-9c9df3934bc5",
   "metadata": {},
   "outputs": [
    {
     "name": "stdout",
     "output_type": "stream",
     "text": [
      "<class 'pandas.core.frame.DataFrame'>\n",
      "RangeIndex: 5200 entries, 0 to 5199\n",
      "Data columns (total 7 columns):\n",
      " #   Column            Non-Null Count  Dtype \n",
      "---  ------            --------------  ----- \n",
      " 0   Movie_Rank        5200 non-null   int64 \n",
      " 1   Movie_Name        5200 non-null   object\n",
      " 2   Worldwide_Gross   5200 non-null   object\n",
      " 3   Domestic_Gross    3879 non-null   object\n",
      " 4   Domestic_Percent  3879 non-null   object\n",
      " 5   Foreign_Gross     5147 non-null   object\n",
      " 6   Foreign_Percent   5147 non-null   object\n",
      "dtypes: int64(1), object(6)\n",
      "memory usage: 284.5+ KB\n"
     ]
    }
   ],
   "source": [
    "df.info()"
   ]
  },
  {
   "cell_type": "markdown",
   "id": "83e15d4a-2b33-4853-808d-20c12a590607",
   "metadata": {},
   "source": [
    "# Cleaning of values"
   ]
  },
  {
   "cell_type": "markdown",
   "id": "6ccb520b-83f6-4746-8e8c-293623bb15e9",
   "metadata": {},
   "source": [
    "Converting Domestic_Gross to digits and replacing missing values with mean"
   ]
  },
  {
   "cell_type": "code",
   "execution_count": 8,
   "id": "c6586d80-3b78-4015-8ce9-796d21519871",
   "metadata": {},
   "outputs": [],
   "source": [
    "df['Domestic_Gross'] = pd.to_numeric(df['Domestic_Gross'].str.replace('$', '').str.replace(',', ''), errors='coerce')\n",
    "# print(df['Domestic_Gross'])\n"
   ]
  },
  {
   "cell_type": "code",
   "execution_count": 9,
   "id": "5ff1ca81-7e4b-4a7a-8ae2-007a5d079670",
   "metadata": {},
   "outputs": [
    {
     "name": "stdout",
     "output_type": "stream",
     "text": [
      "57982996.937870584\n"
     ]
    }
   ],
   "source": [
    "mean = df['Domestic_Gross'].mean()\n",
    "print(mean)"
   ]
  },
  {
   "cell_type": "code",
   "execution_count": 10,
   "id": "088e917a-24f8-47d3-b0ce-9d8a4878dfaa",
   "metadata": {},
   "outputs": [
    {
     "name": "stdout",
     "output_type": "stream",
     "text": [
      "0       2.154099e+08\n",
      "1       1.877054e+08\n",
      "2       2.336321e+08\n",
      "3       1.828117e+08\n",
      "4       1.377481e+08\n",
      "            ...     \n",
      "5195    5.798300e+07\n",
      "5196    5.798300e+07\n",
      "5197    1.922230e+05\n",
      "5198    5.798300e+07\n",
      "5199    2.162400e+04\n",
      "Name: Domestic_Gross, Length: 5200, dtype: float64\n"
     ]
    }
   ],
   "source": [
    "df['Domestic_Gross'] = df['Domestic_Gross'].fillna(mean)\n",
    "print(df['Domestic_Gross'])"
   ]
  },
  {
   "cell_type": "code",
   "execution_count": 11,
   "id": "fa0fcdda-a0c6-4150-ac7b-77183dd528bb",
   "metadata": {},
   "outputs": [],
   "source": [
    "df['Domestic_Gross'] = df['Domestic_Gross'].round(2)"
   ]
  },
  {
   "cell_type": "code",
   "execution_count": 12,
   "id": "5f58ed3e-8250-49cd-9c84-a55e1b7fa925",
   "metadata": {},
   "outputs": [
    {
     "name": "stdout",
     "output_type": "stream",
     "text": [
      "0       2.154099e+08\n",
      "1       1.877054e+08\n",
      "2       2.336321e+08\n",
      "3       1.828117e+08\n",
      "4       1.377481e+08\n",
      "            ...     \n",
      "5195    5.798300e+07\n",
      "5196    5.798300e+07\n",
      "5197    1.922230e+05\n",
      "5198    5.798300e+07\n",
      "5199    2.162400e+04\n",
      "Name: Domestic_Gross, Length: 5200, dtype: float64\n"
     ]
    }
   ],
   "source": [
    "print(df['Domestic_Gross'])"
   ]
  },
  {
   "cell_type": "markdown",
   "id": "74e58a71-41c6-43b1-a83a-12f2e00f004a",
   "metadata": {},
   "source": [
    "Converting Domestic_Percent to digits and replacing missing values with mean"
   ]
  },
  {
   "cell_type": "code",
   "execution_count": 13,
   "id": "f2692555-1c3e-480c-8d34-d308b5d7c382",
   "metadata": {},
   "outputs": [
    {
     "name": "stdout",
     "output_type": "stream",
     "text": [
      "0       39.4\n",
      "1       40.8\n",
      "2       54.4\n",
      "3       48.9\n",
      "4       39.4\n",
      "        ... \n",
      "5195     NaN\n",
      "5196     NaN\n",
      "5197    45.6\n",
      "5198     NaN\n",
      "5199     5.3\n",
      "Name: Domestic_Percent, Length: 5200, dtype: float64\n"
     ]
    }
   ],
   "source": [
    "df['Domestic_Percent'] = pd.to_numeric(df['Domestic_Percent'].str.replace('%', '').str.replace(',', ''), errors='coerce')\n",
    "print(df['Domestic_Percent'])"
   ]
  },
  {
   "cell_type": "code",
   "execution_count": 14,
   "id": "ec8fcf36-10f2-459d-8320-ff8a66ac773c",
   "metadata": {},
   "outputs": [
    {
     "name": "stdout",
     "output_type": "stream",
     "text": [
      "47.41307752545028\n"
     ]
    }
   ],
   "source": [
    "mean = df['Domestic_Percent'].mean()\n",
    "print(mean)"
   ]
  },
  {
   "cell_type": "code",
   "execution_count": 15,
   "id": "5b2d028c-2d96-435b-80b1-391b17d3580b",
   "metadata": {},
   "outputs": [
    {
     "name": "stdout",
     "output_type": "stream",
     "text": [
      "0       39.400000\n",
      "1       40.800000\n",
      "2       54.400000\n",
      "3       48.900000\n",
      "4       39.400000\n",
      "          ...    \n",
      "5195    47.413078\n",
      "5196    47.413078\n",
      "5197    45.600000\n",
      "5198    47.413078\n",
      "5199     5.300000\n",
      "Name: Domestic_Percent, Length: 5200, dtype: float64\n"
     ]
    }
   ],
   "source": [
    "df['Domestic_Percent'] = df['Domestic_Percent'].fillna(mean)\n",
    "print(df['Domestic_Percent'])"
   ]
  },
  {
   "cell_type": "code",
   "execution_count": 16,
   "id": "cd1cf83c-4c05-4b4b-9786-45adf62080cd",
   "metadata": {
    "scrolled": true
   },
   "outputs": [
    {
     "name": "stdout",
     "output_type": "stream",
     "text": [
      "0       39.40\n",
      "1       40.80\n",
      "2       54.40\n",
      "3       48.90\n",
      "4       39.40\n",
      "        ...  \n",
      "5195    47.41\n",
      "5196    47.41\n",
      "5197    45.60\n",
      "5198    47.41\n",
      "5199     5.30\n",
      "Name: Domestic_Percent, Length: 5200, dtype: float64\n"
     ]
    }
   ],
   "source": [
    "df['Domestic_Percent'] = df['Domestic_Percent'].round(2)\n",
    "print(df['Domestic_Percent'])"
   ]
  },
  {
   "cell_type": "markdown",
   "id": "bd233f16-97b5-4d12-b321-b96515a0bc03",
   "metadata": {},
   "source": [
    "Converting Foreign_Gross to digits and replacing missing values with mean"
   ]
  },
  {
   "cell_type": "code",
   "execution_count": 17,
   "id": "2bc44dff-3b30-4689-80d0-86e9c1214e7f",
   "metadata": {},
   "outputs": [
    {
     "name": "stdout",
     "output_type": "stream",
     "text": [
      "0       330978219.0\n",
      "1       272878533.0\n",
      "2       196000000.0\n",
      "3       191300000.0\n",
      "4       212074702.0\n",
      "           ...     \n",
      "5195       422935.0\n",
      "5196       422635.0\n",
      "5197       229013.0\n",
      "5198       413002.0\n",
      "5199       385162.0\n",
      "Name: Foreign_Gross, Length: 5200, dtype: float64\n"
     ]
    }
   ],
   "source": [
    "df['Foreign_Gross'] = pd.to_numeric(df['Foreign_Gross'].str.replace('$', '').str.replace(',', ''), errors='coerce')\n",
    "print(df['Foreign_Gross'])"
   ]
  },
  {
   "cell_type": "code",
   "execution_count": 18,
   "id": "e960c9ae-53f2-473e-ad2b-bc4f1abe32d8",
   "metadata": {},
   "outputs": [
    {
     "name": "stdout",
     "output_type": "stream",
     "text": [
      "73995924.07693802\n"
     ]
    }
   ],
   "source": [
    "mean = df['Foreign_Gross'].mean()\n",
    "print(mean)"
   ]
  },
  {
   "cell_type": "code",
   "execution_count": 19,
   "id": "ea894c5b-33b2-49c8-bb56-1a21a71df596",
   "metadata": {},
   "outputs": [
    {
     "name": "stdout",
     "output_type": "stream",
     "text": [
      "0       330978219.0\n",
      "1       272878533.0\n",
      "2       196000000.0\n",
      "3       191300000.0\n",
      "4       212074702.0\n",
      "           ...     \n",
      "5195       422935.0\n",
      "5196       422635.0\n",
      "5197       229013.0\n",
      "5198       413002.0\n",
      "5199       385162.0\n",
      "Name: Foreign_Gross, Length: 5200, dtype: float64\n"
     ]
    }
   ],
   "source": [
    "df['Foreign_Gross'] = df['Foreign_Gross'].fillna(mean)\n",
    "print(df['Foreign_Gross'])"
   ]
  },
  {
   "cell_type": "code",
   "execution_count": 20,
   "id": "829dd704-2639-43b8-b34b-9f40bf5fe838",
   "metadata": {},
   "outputs": [
    {
     "name": "stdout",
     "output_type": "stream",
     "text": [
      "0       330978219.0\n",
      "1       272878533.0\n",
      "2       196000000.0\n",
      "3       191300000.0\n",
      "4       212074702.0\n",
      "           ...     \n",
      "5195       422935.0\n",
      "5196       422635.0\n",
      "5197       229013.0\n",
      "5198       413002.0\n",
      "5199       385162.0\n",
      "Name: Foreign_Gross, Length: 5200, dtype: float64\n"
     ]
    }
   ],
   "source": [
    "df['Foreign_Gross'] = df['Foreign_Gross'].round(2)\n",
    "print(df['Foreign_Gross'])"
   ]
  },
  {
   "cell_type": "markdown",
   "id": "2da91cf1-9893-4396-9c90-bb4f95a84c2d",
   "metadata": {},
   "source": [
    "Converting Foreign_Percentage to digits and replacing missing values with mean"
   ]
  },
  {
   "cell_type": "code",
   "execution_count": 21,
   "id": "e30a46f9-450e-43f5-bf16-d51b03061ae8",
   "metadata": {},
   "outputs": [],
   "source": [
    "df['Foreign_Percent'] = pd.to_numeric(df['Foreign_Percent'].str.replace('%', '').str.replace(',', ''), errors='coerce')"
   ]
  },
  {
   "cell_type": "code",
   "execution_count": 22,
   "id": "0ac87c5c-f3c4-46c6-8005-e80f9d5d298e",
   "metadata": {},
   "outputs": [
    {
     "name": "stdout",
     "output_type": "stream",
     "text": [
      "65.85157648890619\n"
     ]
    }
   ],
   "source": [
    "mean = df['Foreign_Percent'].mean()\n",
    "print(mean)"
   ]
  },
  {
   "cell_type": "code",
   "execution_count": 23,
   "id": "c639a7c1-f77c-4ea6-8ac6-43f1ae1f60c0",
   "metadata": {},
   "outputs": [
    {
     "name": "stdout",
     "output_type": "stream",
     "text": [
      "0        60.6\n",
      "1        59.2\n",
      "2        45.6\n",
      "3        51.1\n",
      "4        60.6\n",
      "        ...  \n",
      "5195    100.0\n",
      "5196    100.0\n",
      "5197     54.4\n",
      "5198    100.0\n",
      "5199     94.7\n",
      "Name: Foreign_Percent, Length: 5200, dtype: float64\n"
     ]
    }
   ],
   "source": [
    "df['Foreign_Percent'] = df['Foreign_Percent'].fillna(mean)\n",
    "print(df['Foreign_Percent'])"
   ]
  },
  {
   "cell_type": "code",
   "execution_count": 24,
   "id": "5ab16c27-ad8c-4de1-ae45-38aee3e6318b",
   "metadata": {},
   "outputs": [
    {
     "name": "stdout",
     "output_type": "stream",
     "text": [
      "0        60.6\n",
      "1        59.2\n",
      "2        45.6\n",
      "3        51.1\n",
      "4        60.6\n",
      "        ...  \n",
      "5195    100.0\n",
      "5196    100.0\n",
      "5197     54.4\n",
      "5198    100.0\n",
      "5199     94.7\n",
      "Name: Foreign_Percent, Length: 5200, dtype: float64\n"
     ]
    }
   ],
   "source": [
    "df['Foreign_Percent'] = df['Foreign_Percent'].round(2)\n",
    "print(df['Foreign_Percent'])"
   ]
  },
  {
   "cell_type": "code",
   "execution_count": 25,
   "id": "ef64b720-397e-4567-baae-ed8ce7aeff3d",
   "metadata": {},
   "outputs": [],
   "source": [
    "df.to_csv(\"movie_dataset_grossing_cleaned.csv\", index=False)"
   ]
  },
  {
   "cell_type": "code",
   "execution_count": 26,
   "id": "b1783dcc-91f6-4db3-8131-8e5b03b42039",
   "metadata": {},
   "outputs": [
    {
     "name": "stdout",
     "output_type": "stream",
     "text": [
      "0        1995.0\n",
      "1        1995.0\n",
      "2        1995.0\n",
      "3        1995.0\n",
      "4        1995.0\n",
      "          ...  \n",
      "86532    2021.0\n",
      "86533    2021.0\n",
      "86534    1973.0\n",
      "86535    2023.0\n",
      "86536    2021.0\n",
      "Name: Year, Length: 86537, dtype: float64\n"
     ]
    }
   ],
   "source": [
    "movies_df = pd.read_csv(\"movies.csv\")\n",
    "\n",
    "def extract_year(title):\n",
    "    try:\n",
    "        return int(title[-5:-1])\n",
    "    except:\n",
    "        return None\n",
    "    \n",
    "movies_df['Year'] = movies_df['title'].apply(extract_year)\n",
    "print(movies_df['Year'])"
   ]
  },
  {
   "cell_type": "code",
   "execution_count": 35,
   "id": "b91f7c43",
   "metadata": {},
   "outputs": [
    {
     "name": "stdout",
     "output_type": "stream",
     "text": [
      "       movieId                                 title  \\\n",
      "0            1                                    To   \n",
      "1            2                                         \n",
      "2            3                             Grumpier    \n",
      "3            4                            Waiting to   \n",
      "4            5                  Father of the Bride    \n",
      "...        ...                                   ...   \n",
      "86532   288967                State of Siege: Temple   \n",
      "86533   288971                                  Ouij   \n",
      "86534   288975    The Men Who Made the Movies: Howar   \n",
      "86535   288977                     Skinford: Death S   \n",
      "86536   288983  UNZIPPED: An Autopsy of American Ine   \n",
      "\n",
      "                                            genres    Year  \n",
      "0      Adventure|Animation|Children|Comedy|Fantasy  1995.0  \n",
      "1                       Adventure|Children|Fantasy  1995.0  \n",
      "2                                   Comedy|Romance  1995.0  \n",
      "3                             Comedy|Drama|Romance  1995.0  \n",
      "4                                           Comedy  1995.0  \n",
      "...                                            ...     ...  \n",
      "86532                                 Action|Drama  2021.0  \n",
      "86533                                Action|Horror  2021.0  \n",
      "86534                                  Documentary  1973.0  \n",
      "86535                               Crime|Thriller  2023.0  \n",
      "86536                                  Documentary  2021.0  \n",
      "\n",
      "[86537 rows x 4 columns]\n"
     ]
    }
   ],
   "source": [
    "movies_df['title'] =  movies_df['title'].str[:-7]\n",
    "print(movies_df)"
   ]
  },
  {
   "cell_type": "code",
   "execution_count": 29,
   "id": "d7c0ab8b",
   "metadata": {},
   "outputs": [
    {
     "name": "stdout",
     "output_type": "stream",
     "text": [
      "0       Mission: Impossible II\n",
      "1                    Gladiator\n",
      "2                    Cast Away\n",
      "3              What Women Want\n",
      "4                     Dinosaur\n",
      "                 ...          \n",
      "5195                    Dogulu\n",
      "5196                      Spit\n",
      "5197               Inheritance\n",
      "5198                  Bromance\n",
      "5199                     Putin\n",
      "Name: Movie_Name, Length: 5200, dtype: object\n"
     ]
    }
   ],
   "source": [
    "df['Movie_Name'] =  df['Movie_Name'].str.strip()\n",
    "print(df['Movie_Name'])"
   ]
  },
  {
   "cell_type": "code",
   "execution_count": 36,
   "id": "dc794749",
   "metadata": {},
   "outputs": [],
   "source": [
    "import re\n",
    "\n",
    "def clean_title(title):\n",
    "    title = title.lower()\n",
    "    title = re.sub(r'[^\\w\\s]', '', title)  # Remove punctuation\n",
    "    return title.strip()\n",
    "\n",
    "movies_df['title'] = movies_df['title'].apply(clean_title)"
   ]
  },
  {
   "cell_type": "code",
   "execution_count": null,
   "id": "a8d4ecc9",
   "metadata": {},
   "outputs": [],
   "source": [
    "movies_df['cleaned_title'] = movies_df['title'].apply(clean_title)\n",
    "\n",
    "df['cleaned_movie_name'] = df['Movie_Name'].apply(clean_title) \n",
    "\n"
   ]
  },
  {
   "cell_type": "code",
   "execution_count": 42,
   "id": "7120bb5d",
   "metadata": {},
   "outputs": [],
   "source": [
    "merged_df = pd.merge(df, movies_df, left_on='cleaned_movie_name', right_on='cleaned_title', how='left')\n",
    "merged_df = merged_df.drop(['cleaned_movie_name','cleaned_title'], axis = 1)"
   ]
  },
  {
   "cell_type": "code",
   "execution_count": 45,
   "id": "9f222d0d",
   "metadata": {},
   "outputs": [
    {
     "name": "stdout",
     "output_type": "stream",
     "text": [
      "      Movie_Rank              Movie_Name Worldwide_Gross  Domestic_Gross  \\\n",
      "0              1  Mission: Impossible II    $546,388,108    2.154099e+08   \n",
      "1              2               Gladiator    $460,583,960    1.877054e+08   \n",
      "2              3               Cast Away    $429,632,142    2.336321e+08   \n",
      "3              4         What Women Want    $374,111,707    1.828117e+08   \n",
      "4              5                Dinosaur    $349,822,765    1.377481e+08   \n",
      "...          ...                     ...             ...             ...   \n",
      "6114         196                  Dogulu        $422,935    5.798300e+07   \n",
      "6115         197                    Spit        $422,635    5.798300e+07   \n",
      "6116         198             Inheritance        $421,236    1.922230e+05   \n",
      "6117         199                Bromance        $413,002    5.798300e+07   \n",
      "6118         200                   Putin        $406,786    2.162400e+04   \n",
      "\n",
      "      Domestic_Percent  Foreign_Gross  Foreign_Percent   movieId     title  \\\n",
      "0                39.40    330978219.0             60.6       NaN       NaN   \n",
      "1                40.80    272878533.0             59.2       NaN       NaN   \n",
      "2                54.40    196000000.0             45.6       NaN       NaN   \n",
      "3                48.90    191300000.0             51.1       NaN       NaN   \n",
      "4                39.40    212074702.0             60.6  136634.0  dinosaur   \n",
      "...                ...            ...              ...       ...       ...   \n",
      "6114             47.41       422935.0            100.0       NaN       NaN   \n",
      "6115             47.41       422635.0            100.0       NaN       NaN   \n",
      "6116             45.60       229013.0             54.4       NaN       NaN   \n",
      "6117             47.41       413002.0            100.0       NaN       NaN   \n",
      "6118              5.30       385162.0             94.7   98353.0     putin   \n",
      "\n",
      "                       genres    Year  \n",
      "0                         NaN     NaN  \n",
      "1                         NaN     NaN  \n",
      "2                         NaN     NaN  \n",
      "3                         NaN     NaN  \n",
      "4     Children|Fantasy|Sci-Fi  2014.0  \n",
      "...                       ...     ...  \n",
      "6114                      NaN     NaN  \n",
      "6115                      NaN     NaN  \n",
      "6116                      NaN     NaN  \n",
      "6117                      NaN     NaN  \n",
      "6118              Documentary  2012.0  \n",
      "\n",
      "[6119 rows x 11 columns]\n"
     ]
    }
   ],
   "source": [
    "print(merged_df)"
   ]
  },
  {
   "cell_type": "code",
   "execution_count": 47,
   "id": "dc39ed61",
   "metadata": {},
   "outputs": [
    {
     "name": "stdout",
     "output_type": "stream",
     "text": [
      "Movie_Rank          6119\n",
      "Movie_Name          6119\n",
      "Worldwide_Gross     6119\n",
      "Domestic_Gross      6119\n",
      "Domestic_Percent    6119\n",
      "Foreign_Gross       6119\n",
      "Foreign_Percent     6119\n",
      "movieId             1281\n",
      "title               1281\n",
      "genres              1281\n",
      "Year                1276\n",
      "dtype: int64\n"
     ]
    }
   ],
   "source": [
    "print(merged_df.notna().sum())"
   ]
  },
  {
   "cell_type": "code",
   "execution_count": null,
   "id": "7c83aad1",
   "metadata": {},
   "outputs": [],
   "source": [
    "imdb_df = pd.read_csv(\"imdb_top_1000.csv\")\n",
    "\n"
   ]
  }
 ],
 "metadata": {
  "kernelspec": {
   "display_name": "base",
   "language": "python",
   "name": "python3"
  },
  "language_info": {
   "codemirror_mode": {
    "name": "ipython",
    "version": 3
   },
   "file_extension": ".py",
   "mimetype": "text/x-python",
   "name": "python",
   "nbconvert_exporter": "python",
   "pygments_lexer": "ipython3",
   "version": "3.11.5"
  }
 },
 "nbformat": 4,
 "nbformat_minor": 5
}
