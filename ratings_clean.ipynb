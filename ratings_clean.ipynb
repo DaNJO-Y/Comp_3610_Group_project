{
 "cells": [
  {
   "cell_type": "code",
   "execution_count": 44,
   "id": "df5c3120",
   "metadata": {},
   "outputs": [],
   "source": [
    "import pandas as pd\n",
    "import numpy as np"
   ]
  },
  {
   "cell_type": "code",
   "execution_count": null,
   "id": "0f5ab268",
   "metadata": {},
   "outputs": [],
   "source": []
  },
  {
   "cell_type": "code",
   "execution_count": 45,
   "id": "7696d3c1",
   "metadata": {},
   "outputs": [],
   "source": [
    "ratings = pd.read_csv(\"Ratings.csv\")"
   ]
  },
  {
   "cell_type": "code",
   "execution_count": null,
   "id": "1100ae78",
   "metadata": {},
   "outputs": [],
   "source": []
  },
  {
   "cell_type": "code",
   "execution_count": 46,
   "id": "2f51f741",
   "metadata": {},
   "outputs": [
    {
     "name": "stdout",
     "output_type": "stream",
     "text": [
      "<class 'pandas.core.frame.DataFrame'>\n",
      "RangeIndex: 19942 entries, 0 to 19941\n",
      "Data columns (total 2 columns):\n",
      " #   Column       Non-Null Count  Dtype \n",
      "---  ------       --------------  ----- \n",
      " 0   Original Id  19942 non-null  object\n",
      " 1   Rating       16506 non-null  object\n",
      "dtypes: object(2)\n",
      "memory usage: 311.7+ KB\n"
     ]
    }
   ],
   "source": [
    "ratings.info()"
   ]
  },
  {
   "cell_type": "code",
   "execution_count": null,
   "id": "f95f940d",
   "metadata": {},
   "outputs": [],
   "source": []
  },
  {
   "cell_type": "code",
   "execution_count": 47,
   "id": "4eb13180",
   "metadata": {},
   "outputs": [
    {
     "data": {
      "text/plain": [
       "array(['G', 'PG', 'PG-13', 'R', '1995', 'Unrated', nan, 'Not Rated',\n",
       "       'Approved', 'NC-17', 'TV-MA', 'TV-PG', 'Passed', 'GP', 'TV-14',\n",
       "       '1996', 'M/PG', 'X', '1998', '2000', '1983', '18+', 'M', 'TV-G',\n",
       "       '1973', '1994–2022', '2002', '1984', '1987', '1971', '1999',\n",
       "       '2001', '2004', '2003', '2005', '1988', '2006', '1974', '1993',\n",
       "       '1977', '1967', '16+', '2008', '2007', '2009', '1966', 'Open',\n",
       "       'TV-13', '2010', '2011', '1997', '1990', '1980', '2013', 'TV-Y',\n",
       "       '2012', '2014', '1985', '1970', '2015', 'TV-Y7-FV', '1976',\n",
       "       'TV-Y7', '13+', '1975', '2016', '2017', '2013–2014'], dtype=object)"
      ]
     },
     "execution_count": 47,
     "metadata": {},
     "output_type": "execute_result"
    }
   ],
   "source": [
    "ratings['Rating'].unique()"
   ]
  },
  {
   "cell_type": "code",
   "execution_count": null,
   "id": "1fd2cdcf",
   "metadata": {},
   "outputs": [],
   "source": []
  },
  {
   "cell_type": "code",
   "execution_count": 48,
   "id": "8cbca1ba",
   "metadata": {},
   "outputs": [
    {
     "name": "stdout",
     "output_type": "stream",
     "text": [
      "['G' 'PG' 'PG-13' 'R' 'Not Rated' 'Unrated' nan 'Approved' 'NC-17' 'TV-MA'\n",
      " 'TV-PG' 'Passed' 'GP' 'TV-14' 'M/PG' 'X' '18+' 'M' 'TV-G' '1994–2022'\n",
      " '16+' 'Open' 'TV-13' 'TV-Y' 'TV-Y7-FV' 'TV-Y7' '13+' '2013–2014']\n"
     ]
    }
   ],
   "source": [
    "def is_year(value):\n",
    "    try:\n",
    "        int(value)\n",
    "        return len(str(value)) == 4  # Assuming years are 4 digits\n",
    "    except (ValueError, TypeError):\n",
    "        return False\n",
    "\n",
    "ratings['Rating'] = ratings['Rating'].apply(lambda x: 'Not Rated' if is_year(x) else x)\n",
    "\n",
    "print(ratings['Rating'].unique())"
   ]
  },
  {
   "cell_type": "code",
   "execution_count": null,
   "id": "92fb88ac",
   "metadata": {},
   "outputs": [],
   "source": []
  },
  {
   "cell_type": "code",
   "execution_count": 49,
   "id": "5ab77daa",
   "metadata": {},
   "outputs": [],
   "source": [
    "def convert_tv_to_movie_rating(tv_rating):\n",
    "    tv_to_movie_map = {\n",
    "        'TV-MA': 'R',\n",
    "        'TV-PG': 'PG',\n",
    "        'Passed': 'G',\n",
    "        'Approved': 'G',\n",
    "        'GP': 'PG',\n",
    "        'TV-14': 'PG-13',\n",
    "        'M/PG': 'PG',\n",
    "        'X': 'NC-17',\n",
    "        '18+': 'NC-17',\n",
    "        'M': 'PG',\n",
    "        'TV-G': 'G',\n",
    "        '16+': 'R',  \n",
    "        'Open': 'G', \n",
    "        'TV-13': 'PG-13', \n",
    "        'TV-Y': 'G',    \n",
    "        'TV-Y7-FV': 'G', \n",
    "        'TV-Y7': 'G',   \n",
    "        '13+': 'PG-13'\n",
    "    }\n",
    "    return tv_to_movie_map.get(tv_rating, tv_rating)"
   ]
  },
  {
   "cell_type": "code",
   "execution_count": null,
   "id": "91d037c9",
   "metadata": {},
   "outputs": [],
   "source": []
  },
  {
   "cell_type": "code",
   "execution_count": 50,
   "id": "1b19001b",
   "metadata": {},
   "outputs": [
    {
     "name": "stdout",
     "output_type": "stream",
     "text": [
      "['G' 'PG' 'PG-13' 'R' 'Not Rated' 'Unrated' nan 'NC-17' '1994–2022'\n",
      " '2013–2014']\n"
     ]
    }
   ],
   "source": [
    "ratings['Rating'] = ratings['Rating'].apply(convert_tv_to_movie_rating)\n",
    "\n",
    "print(ratings['Rating'].unique())"
   ]
  },
  {
   "cell_type": "code",
   "execution_count": null,
   "id": "8ec86e68",
   "metadata": {},
   "outputs": [],
   "source": []
  },
  {
   "cell_type": "code",
   "execution_count": 51,
   "id": "9b2642d4",
   "metadata": {},
   "outputs": [
    {
     "name": "stdout",
     "output_type": "stream",
     "text": [
      "['G' 'PG' 'PG-13' 'R' 'Not Rated' 'Unrated' 'NC-17']\n"
     ]
    }
   ],
   "source": [
    "values_to_replace = [np.nan, '1994–2022', '2013–2014']\n",
    "ratings['Rating'] = ratings['Rating'].replace(values_to_replace, 'Not Rated')\n",
    "\n",
    "print(ratings['Rating'].unique())"
   ]
  },
  {
   "cell_type": "code",
   "execution_count": 52,
   "id": "6b65b3ba",
   "metadata": {},
   "outputs": [
    {
     "name": "stdout",
     "output_type": "stream",
     "text": [
      "0                G\n",
      "1               PG\n",
      "2            PG-13\n",
      "3                R\n",
      "4               PG\n",
      "           ...    \n",
      "19937      Unrated\n",
      "19938    Not Rated\n",
      "19939    Not Rated\n",
      "19940    Not Rated\n",
      "19941            R\n",
      "Name: Rating, Length: 19942, dtype: object\n"
     ]
    }
   ],
   "source": [
    "print(ratings['Rating'])"
   ]
  },
  {
   "cell_type": "code",
   "execution_count": null,
   "id": "76de18e6",
   "metadata": {},
   "outputs": [],
   "source": []
  },
  {
   "cell_type": "code",
   "execution_count": 53,
   "id": "de9ac788",
   "metadata": {},
   "outputs": [],
   "source": [
    "movies = pd.read_csv('final_movie_dataset.csv')"
   ]
  },
  {
   "cell_type": "code",
   "execution_count": null,
   "id": "daf5149e",
   "metadata": {},
   "outputs": [],
   "source": []
  },
  {
   "cell_type": "code",
   "execution_count": 54,
   "id": "42ec011c",
   "metadata": {},
   "outputs": [
    {
     "name": "stdout",
     "output_type": "stream",
     "text": [
      "<class 'pandas.core.frame.DataFrame'>\n",
      "RangeIndex: 19942 entries, 0 to 19941\n",
      "Data columns (total 29 columns):\n",
      " #   Column             Non-Null Count  Dtype  \n",
      "---  ------             --------------  -----  \n",
      " 0   movieId            19942 non-null  float64\n",
      " 1   imdb_id            19942 non-null  object \n",
      " 2   original_title     19942 non-null  object \n",
      " 3   release_date       19942 non-null  object \n",
      " 4   runtime            19942 non-null  float64\n",
      " 5   title              19942 non-null  object \n",
      " 6   budget             19942 non-null  float64\n",
      " 7   revenue            19942 non-null  float64\n",
      " 8   popularity         19942 non-null  float64\n",
      " 9   vote_average       19942 non-null  float64\n",
      " 10  vote_count         19942 non-null  float64\n",
      " 11  director           19942 non-null  object \n",
      " 12  prod_comp_encoded  19942 non-null  float64\n",
      " 13  0                  19942 non-null  float64\n",
      " 14  1                  19942 non-null  float64\n",
      " 15  2                  19942 non-null  float64\n",
      " 16  3                  19942 non-null  float64\n",
      " 17  4                  19942 non-null  float64\n",
      " 18  5                  19942 non-null  float64\n",
      " 19  6                  19942 non-null  float64\n",
      " 20  7                  19942 non-null  float64\n",
      " 21  8                  19942 non-null  float64\n",
      " 22  9                  19942 non-null  float64\n",
      " 23  10                 19942 non-null  float64\n",
      " 24  11                 19942 non-null  float64\n",
      " 25  12                 19942 non-null  float64\n",
      " 26  13                 19942 non-null  float64\n",
      " 27  genre_encoded      19942 non-null  float64\n",
      " 28  actor_encoded      19942 non-null  float64\n",
      "dtypes: float64(24), object(5)\n",
      "memory usage: 4.4+ MB\n"
     ]
    }
   ],
   "source": [
    "movies.info()"
   ]
  },
  {
   "cell_type": "code",
   "execution_count": null,
   "id": "75ed0044",
   "metadata": {},
   "outputs": [],
   "source": []
  },
  {
   "cell_type": "code",
   "execution_count": 55,
   "id": "bc90eca4",
   "metadata": {},
   "outputs": [],
   "source": [
    "ratings.rename(columns={'Original Id':'imdb_id'}, inplace=True)"
   ]
  },
  {
   "cell_type": "code",
   "execution_count": 56,
   "id": "b292eaf0",
   "metadata": {},
   "outputs": [
    {
     "name": "stdout",
     "output_type": "stream",
     "text": [
      "\n",
      "Inner Join:\n",
      "     imdb_id Rating  movieId               original_title release_date  \\\n",
      "0  tt0114709      G    862.0                    Toy Story   1995-10-30   \n",
      "1  tt0113497     PG   8844.0                      Jumanji   1995-12-15   \n",
      "2  tt0113228  PG-13  15602.0             Grumpier Old Men   1995-12-22   \n",
      "3  tt0114885      R  31357.0            Waiting to Exhale   1995-12-22   \n",
      "4  tt0113041     PG  11862.0  Father of the Bride Part II   1995-02-10   \n",
      "\n",
      "   runtime                        title      budget      revenue  popularity  \\\n",
      "0     81.0                    Toy Story  30000000.0  373554033.0   21.946943   \n",
      "1    104.0                      Jumanji  65000000.0  262797249.0   17.015539   \n",
      "2    101.0             Grumpier Old Men         0.0   71518503.0   11.712900   \n",
      "3    127.0            Waiting to Exhale  16000000.0   81452156.0    3.859495   \n",
      "4    106.0  Father of the Bride Part II         0.0   76578911.0    8.387519   \n",
      "\n",
      "   ...         6         7         8         9        10        11        12  \\\n",
      "0  ... -0.001149 -0.004017  0.002207  0.003043  0.000552 -0.000782  0.001384   \n",
      "1  ... -0.001149 -0.004017  0.002207  0.003043  0.000552 -0.000782  0.001384   \n",
      "2  ... -0.001149 -0.004017  0.002207  0.003043  0.000552 -0.000782  0.001384   \n",
      "3  ... -0.001149 -0.004017  0.002207  0.003043  0.000552 -0.000782  0.001384   \n",
      "4  ... -0.001149 -0.004017  0.002207  0.003043  0.000552 -0.000782  0.001384   \n",
      "\n",
      "         13  genre_encoded  actor_encoded  \n",
      "0  0.000273       0.066462       0.000789  \n",
      "1  0.000273       0.032298       0.000564  \n",
      "2  0.000273       0.117880       0.000551  \n",
      "3  0.000273       0.158426       0.000200  \n",
      "4  0.000273       0.151623       0.000839  \n",
      "\n",
      "[5 rows x 30 columns]\n"
     ]
    }
   ],
   "source": [
    "merged = pd.merge(ratings, movies, on='imdb_id', how='inner')\n",
    "print(\"\\nInner Join:\")\n",
    "print(merged.head())"
   ]
  },
  {
   "cell_type": "code",
   "execution_count": null,
   "id": "fe7d7869",
   "metadata": {},
   "outputs": [],
   "source": []
  },
  {
   "cell_type": "code",
   "execution_count": 58,
   "id": "a2797d8b",
   "metadata": {},
   "outputs": [
    {
     "name": "stdout",
     "output_type": "stream",
     "text": [
      "<class 'pandas.core.frame.DataFrame'>\n",
      "RangeIndex: 19964 entries, 0 to 19963\n",
      "Data columns (total 30 columns):\n",
      " #   Column             Non-Null Count  Dtype  \n",
      "---  ------             --------------  -----  \n",
      " 0   imdb_id            19964 non-null  object \n",
      " 1   Rating             19964 non-null  object \n",
      " 2   movieId            19964 non-null  float64\n",
      " 3   original_title     19964 non-null  object \n",
      " 4   release_date       19964 non-null  object \n",
      " 5   runtime            19964 non-null  float64\n",
      " 6   title              19964 non-null  object \n",
      " 7   budget             19964 non-null  float64\n",
      " 8   revenue            19964 non-null  float64\n",
      " 9   popularity         19964 non-null  float64\n",
      " 10  vote_average       19964 non-null  float64\n",
      " 11  vote_count         19964 non-null  float64\n",
      " 12  director           19964 non-null  object \n",
      " 13  prod_comp_encoded  19964 non-null  float64\n",
      " 14  0                  19964 non-null  float64\n",
      " 15  1                  19964 non-null  float64\n",
      " 16  2                  19964 non-null  float64\n",
      " 17  3                  19964 non-null  float64\n",
      " 18  4                  19964 non-null  float64\n",
      " 19  5                  19964 non-null  float64\n",
      " 20  6                  19964 non-null  float64\n",
      " 21  7                  19964 non-null  float64\n",
      " 22  8                  19964 non-null  float64\n",
      " 23  9                  19964 non-null  float64\n",
      " 24  10                 19964 non-null  float64\n",
      " 25  11                 19964 non-null  float64\n",
      " 26  12                 19964 non-null  float64\n",
      " 27  13                 19964 non-null  float64\n",
      " 28  genre_encoded      19964 non-null  float64\n",
      " 29  actor_encoded      19964 non-null  float64\n",
      "dtypes: float64(24), object(6)\n",
      "memory usage: 4.6+ MB\n"
     ]
    }
   ],
   "source": [
    "merged.info()"
   ]
  },
  {
   "cell_type": "code",
   "execution_count": 59,
   "id": "8b448ee5",
   "metadata": {},
   "outputs": [],
   "source": [
    "merged.to_csv('Final_dataset_with_ratings.csv', index=False)"
   ]
  },
  {
   "cell_type": "code",
   "execution_count": null,
   "id": "75f898ba",
   "metadata": {},
   "outputs": [],
   "source": []
  }
 ],
 "metadata": {
  "kernelspec": {
   "display_name": "base",
   "language": "python",
   "name": "python3"
  },
  "language_info": {
   "codemirror_mode": {
    "name": "ipython",
    "version": 3
   },
   "file_extension": ".py",
   "mimetype": "text/x-python",
   "name": "python",
   "nbconvert_exporter": "python",
   "pygments_lexer": "ipython3",
   "version": "3.12.7"
  }
 },
 "nbformat": 4,
 "nbformat_minor": 5
}
